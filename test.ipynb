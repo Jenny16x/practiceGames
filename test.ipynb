{
 "cells": [
  {
   "cell_type": "code",
   "execution_count": 3,
   "metadata": {},
   "outputs": [
    {
     "name": "stdout",
     "output_type": "stream",
     "text": [
      "Oops! invalid input.. \n",
      "Oops! invalid input.. \n",
      "Oops! invalid input.. \n",
      "Oops! invalid input.. \n",
      "Oops! invalid input.. \n",
      "Oops! invalid input.. \n",
      "done\n"
     ]
    }
   ],
   "source": [
    "isval= False\n",
    "while isval==False:\n",
    "    user_input = int(input(\"type your choice here..enter 1 for rock, 2 for paper, 3 for scissor:\")) \n",
    "    if (user_input in [1,2,3]):\n",
    "        break\n",
    "    print(\"Oops! invalid input.. \")\n",
    "print(\"done\")"
   ]
  },
  {
   "cell_type": "code",
   "execution_count": null,
   "metadata": {},
   "outputs": [],
   "source": [
    "isval= False\n",
    "while isval==False:\n",
    "    user_input = int(input(\"type your choice here..enter 1 for rock, 2 for paper, 3 for scissor:\")) \n",
    "    if (user_input in [1,2,3]):\n",
    "        isval==True\n",
    "    print(\"Oops! invalid input.. \")\n",
    "print(\"done\")"
   ]
  }
 ],
 "metadata": {
  "interpreter": {
   "hash": "31f2aee4e71d21fbe5cf8b01ff0e069b9275f58929596ceb00d14d90e3e16cd6"
  },
  "kernelspec": {
   "display_name": "Python 3.8.9 64-bit",
   "language": "python",
   "name": "python3"
  },
  "language_info": {
   "codemirror_mode": {
    "name": "ipython",
    "version": 3
   },
   "file_extension": ".py",
   "mimetype": "text/x-python",
   "name": "python",
   "nbconvert_exporter": "python",
   "pygments_lexer": "ipython3",
   "version": "3.8.9"
  },
  "orig_nbformat": 4
 },
 "nbformat": 4,
 "nbformat_minor": 2
}
